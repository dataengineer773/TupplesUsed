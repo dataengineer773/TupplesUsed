{
 "cells": [
  {
   "cell_type": "code",
   "execution_count": 1,
   "id": "52e264cf-e506-43f7-84c7-039723cc1d7d",
   "metadata": {},
   "outputs": [],
   "source": [
    "lax_coordinates = (33.9425, -110.405056)"
   ]
  },
  {
   "cell_type": "code",
   "execution_count": 2,
   "id": "38a45bf9-dc15-4208-b783-d7cde7cfa723",
   "metadata": {},
   "outputs": [],
   "source": [
    "city, year, pop, chg, area = ('Tokyo', 2003, 32_450, 0.66, 8014)"
   ]
  },
  {
   "cell_type": "code",
   "execution_count": 3,
   "id": "21bdf19a-e373-4a61-a1ac-fb47c634a017",
   "metadata": {},
   "outputs": [],
   "source": [
    "traveler_ids = [('USA', '31195855'), ('BRA', 'CE342567'), ('ESP', 'XDA205856')]"
   ]
  },
  {
   "cell_type": "code",
   "execution_count": 4,
   "id": "90c11814-07b7-4407-98e8-38af91b89814",
   "metadata": {},
   "outputs": [
    {
     "name": "stdout",
     "output_type": "stream",
     "text": [
      "BRACE342567\n",
      "ESPXDA205856\n",
      "USA31195855\n"
     ]
    }
   ],
   "source": [
    "for passport in sorted(traveler_ids):\n",
    "    print('%s%s' % passport)"
   ]
  },
  {
   "cell_type": "code",
   "execution_count": null,
   "id": "510adfdf-c2a5-4ddd-a3df-e6998c1c9f29",
   "metadata": {},
   "outputs": [],
   "source": []
  }
 ],
 "metadata": {
  "kernelspec": {
   "display_name": "Python 3 (ipykernel)",
   "language": "python",
   "name": "python3"
  },
  "language_info": {
   "codemirror_mode": {
    "name": "ipython",
    "version": 3
   },
   "file_extension": ".py",
   "mimetype": "text/x-python",
   "name": "python",
   "nbconvert_exporter": "python",
   "pygments_lexer": "ipython3",
   "version": "3.12.3"
  }
 },
 "nbformat": 4,
 "nbformat_minor": 5
}
